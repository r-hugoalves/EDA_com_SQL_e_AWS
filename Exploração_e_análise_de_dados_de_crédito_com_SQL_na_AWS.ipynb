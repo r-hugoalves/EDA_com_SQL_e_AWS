{
  "nbformat": 4,
  "nbformat_minor": 0,
  "metadata": {
    "colab": {
      "provenance": [],
      "authorship_tag": "ABX9TyPtifRzY/BpTFp4pB7ii4KY",
      "include_colab_link": true
    },
    "kernelspec": {
      "name": "python3",
      "display_name": "Python 3"
    },
    "language_info": {
      "name": "python"
    }
  },
  "cells": [
    {
      "cell_type": "markdown",
      "metadata": {
        "id": "view-in-github",
        "colab_type": "text"
      },
      "source": [
        "<a href=\"https://colab.research.google.com/github/r-hugoalves/EDA_com_SQL_e_AWS/blob/master/Explora%C3%A7%C3%A3o_e_an%C3%A1lise_de_dados_de_cr%C3%A9dito_com_SQL_na_AWS.ipynb\" target=\"_parent\"><img src=\"https://colab.research.google.com/assets/colab-badge.svg\" alt=\"Open In Colab\"/></a>"
      ]
    },
    {
      "cell_type": "markdown",
      "source": [
        "# Exploração e análise de dados de crédito com SQL na AWS"
      ],
      "metadata": {
        "id": "rhfWKC2D405E"
      }
    },
    {
      "cell_type": "markdown",
      "source": [
        "Nesse estudo, vamos analisar um conjunto de dados que representam informações de clientes de um banco."
      ],
      "metadata": {
        "id": "_gnNct2645NL"
      }
    },
    {
      "cell_type": "markdown",
      "source": [
        "Para o nosso estudo, vamos utilizar as ferramentas S3 e Athena da AWS e uma parte do conjunto de dados disponibilizados [nesse](https://github.com/andre-marcos-perez/ebac-course-utils/tree/main/dataset) repositório*. Além disso, todos os gráficos aqui apresentados foram gerados utilizando o excel.\n",
        "\n",
        "**.: não vamos trabalhar com todo o conjunto de dados para não ultrapassar o período gratuito da AWS. Por isso, utilizaremos apenas as 2563 primeiras linhas.*"
      ],
      "metadata": {
        "id": "svJ6TM4b45KI"
      }
    },
    {
      "cell_type": "markdown",
      "source": [
        "## Dados"
      ],
      "metadata": {
        "id": "8L1_A4w045F3"
      }
    },
    {
      "cell_type": "markdown",
      "source": [
        "Legenda dos dados presentes na tabela:\n",
        "\n",
        "* idade = idade do cliente\n",
        "* sexo = sexo do cliente (F ou M)\n",
        "* dependentes = número de dependentes do cliente\n",
        "* escolaridade = nível de escolaridade do clientes\n",
        "* salario_anual = faixa salarial do cliente\n",
        "* tipo_cartao = tipo de cartao do cliente\n",
        "* qtd_produtos = quantidade de produtos comprados nos últimos 12 meses\n",
        "* iteracoes_12m = quantidade de iterações/transacoes nos ultimos 12 meses\n",
        "* meses_inativo_12m = quantidade de meses que o cliente ficou inativo\n",
        "* limite_credito = limite de credito do cliente\n",
        "* valor_transacoes_12m = valor das transações dos ultimos 12 meses\n",
        "* qtd_transacoes_12m = quantidade de transacoes dos ultimos 12 meses"
      ],
      "metadata": {
        "id": "tsxpdvkO45BL"
      }
    },
    {
      "cell_type": "markdown",
      "source": [
        "## Extração dos dados"
      ],
      "metadata": {
        "id": "v9oxXkGj447H"
      }
    },
    {
      "cell_type": "markdown",
      "source": [
        "## Exploração dos dados"
      ],
      "metadata": {
        "id": "jPqPIOcO6hzp"
      }
    },
    {
      "cell_type": "markdown",
      "source": [
        "## Análise dos dados"
      ],
      "metadata": {
        "id": "7E1mbNjk6hvP"
      }
    },
    {
      "cell_type": "markdown",
      "source": [
        "## Conclusão"
      ],
      "metadata": {
        "id": "5entwvyT6ho3"
      }
    }
  ]
}